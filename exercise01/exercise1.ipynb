{
 "cells": [
  {
   "cell_type": "markdown",
   "id": "ce6eb788",
   "metadata": {},
   "source": [
    "# Exercise 1 - Inference Queries, Independence\n",
    "\n",
    "In this exercise, we will answer inference queries from a probability table and check for marginal independence.\n",
    "\n",
    "In the event of a persistent problem, do not hesitate to contact the course instructors under\n",
    "- paul.kahlmeyer@uni-jena.de\n",
    "\n",
    "### Submission\n",
    "\n",
    "- Deadline of submission:\n",
    "        30.10.2022\n",
    "- Submission on [moodle page](https://moodle.uni-jena.de/course/view.php?id=34630)\n",
    "\n",
    "### Help\n",
    "In case you cannot solve a task, you can use the saved values within the `help` directory:\n",
    "- Load arrays with [Numpy](https://numpy.org/doc/stable/reference/generated/numpy.load.html)\n",
    "```\n",
    "np.load('help/array_name.npy')\n",
    "```\n",
    "- Load functions with [Dill](https://dill.readthedocs.io/en/latest/dill.html)\n",
    "```\n",
    "import dill\n",
    "with open('help/some_func.pkl', 'rb') as f:\n",
    "    func = dill.load(f)\n",
    "```\n",
    "\n",
    "to continue working on the other tasks."
   ]
  },
  {
   "cell_type": "markdown",
   "id": "4d5596d9",
   "metadata": {},
   "source": [
    "# Probability Table\n",
    "\n",
    "We will use a probability table derived from the [migraine dataset](https://www.kaggle.com/datasets/weinoose/migraine-classification). \n",
    "Due to the lack of description, we can only guess what some of the attributes stand for exactly.\n",
    "Nevertheless, we have 11 discrete features from patients suffering from migraine.\n",
    "\n",
    "1. `Age`: the age of the patient in intervals of 20 years\n",
    "    - 0: $\\leq 20$\n",
    "    - 1: $\\in (20, 40]$\n",
    "    - 2: $\\in (40, 60]$\n",
    "    - 3: $>60$\n",
    "2. `Duration`: how long did the migraine attack last?\n",
    "    - 0: short\n",
    "    - 1: normal\n",
    "    - 2: long\n",
    "3. `Intensity`: how intense was the migraine attack?\n",
    "    - 0: very light\n",
    "    - 1: light\n",
    "    - 2: intense\n",
    "    - 3: very intense\n",
    "4. `Nausea`: did patient feel sick?\n",
    "    - 0: no\n",
    "    - 1: yes\n",
    "5. `Vomit`: did the migraine attack cause the patient to vomit?\n",
    "    - 0: no\n",
    "    - 1: yes\n",
    "6. `Phonophobia`: did the patient feel specifically sensitive for sound?\n",
    "    - 0: no\n",
    "    - 1: yes\n",
    "7. `Photophobia`: did the patient feel specifically sensitive for light?\n",
    "    - 0: no\n",
    "    - 1: yes\n",
    "8. `Tinnitus`: did the patient suffer from tinnitus?\n",
    "    - 0: no\n",
    "    - 1: yes\n",
    "9. `Conscience`: did the patient loos conscience?\n",
    "    - 0: no\n",
    "    - 1: yes\n",
    "10. `Paresthesia`: did the patient feel numbness?\n",
    "    - 0: no\n",
    "    - 1: yes\n",
    "11. `Type`: What kind of migraine did the patient have?\n",
    "    - 0: Basilar-type aura\n",
    "    - 1: Familial hemiplegic migraine\n",
    "    - 2: Migraine without aura\n",
    "    - 3: Other\n",
    "    - 4: Sporadic hemiplegic migraine\n",
    "    - 5: Typical aura with migraine\n",
    "    - 6: Typical aura without migraine"
   ]
  },
  {
   "cell_type": "markdown",
   "id": "018dbe2f",
   "metadata": {},
   "source": [
    "### Task 1\n",
    "\n",
    "Load the probability table from `prob_table.npy`.\n",
    "The first 11 columns correspond to the features, the last column holds the probabilty."
   ]
  },
  {
   "cell_type": "code",
   "execution_count": 9,
   "id": "355cb6d8",
   "metadata": {},
   "outputs": [],
   "source": [
    "import numpy as np\n",
    "\n",
    "columns = ['Age', \n",
    "           'Duration', \n",
    "           'Intensity', \n",
    "           'Nausea', \n",
    "           'Vomit', \n",
    "           'Phonophobia',\n",
    "           'Photophobia', \n",
    "           'Vertigo', \n",
    "           'Tinnitus', \n",
    "           'Conscience', \n",
    "           'Paresthesia',\n",
    "           'Type']\n",
    "\n",
    "# TODO: load probability table\n",
    "prob_table = np.load(\"prob_table.npy\")\n",
    "\n",
    "def indices(*column_names: list[str]) -> list[str]:\n",
    "    assert np.all([name in columns for name in column_names]), \"Column name not found.\"\n",
    "    return [columns.index(name) for name in column_names]\n",
    "\n",
    "# assert every column is sorted\n",
    "prob_sorted = prob_table[np.lexsort([prob_table[:, i] for i in range(len(columns))])]"
   ]
  },
  {
   "cell_type": "markdown",
   "id": "53f1cb22",
   "metadata": {},
   "source": [
    "# Inference Queries\n",
    "\n",
    "The probability table encodes the joint probability distribution $p(x_1, \\dots, x_{11})$, where $x_i$ corresponds to the $i$-th feature. The whole point of having such a distribution is to answer queries with it.\n",
    "\n",
    "## Prior Marginal\n",
    "For the prior marginal, a subset of indices $I\\subseteq\\{1,\\dots, 11\\}$ is given and the marginal distribution \n",
    "\n",
    "\\begin{equation}\n",
    "p(x_I)\n",
    "\\end{equation}\n",
    "\n",
    "has to be computed.\n",
    "\n",
    "### Task 2\n",
    "\n",
    "Calculate the marginal distribution of `Vertigo` and `Vomit`."
   ]
  },
  {
   "cell_type": "code",
   "execution_count": 10,
   "id": "d740036d",
   "metadata": {},
   "outputs": [
    {
     "data": {
      "text/plain": [
       "array([[0.        , 0.        , 0.25076552],\n",
       "       [1.        , 0.        , 0.24964624],\n",
       "       [0.        , 1.        , 0.25010439],\n",
       "       [1.        , 1.        , 0.24948385]])"
      ]
     },
     "execution_count": 10,
     "metadata": {},
     "output_type": "execute_result"
    }
   ],
   "source": [
    "from operator import itemgetter\n",
    "\n",
    "\n",
    "def prior_marginal(prob_table: np.ndarray, I: np.ndarray) -> np.ndarray:\n",
    "    '''\n",
    "    Computes the probability table for a subset of the indices.\n",
    "\n",
    "    @Params:\n",
    "        prob_table... numpy array with columns holding values, last column holding the probabilities\n",
    "        I... numpy array with indices\n",
    "\n",
    "    @Returns:\n",
    "        numpy array with columns holding values, last column holding the probabilities for indices in I\n",
    "    '''\n",
    "\n",
    "    # sort it\n",
    "    prob_sorted = prob_table[np.lexsort([prob_table[:, i] for i in I])]\n",
    "    # find all possible values for x_I\n",
    "    n_possibilities = np.prod([len(set(prob_sorted[:, i])) for i in I])\n",
    "    # number of values that need to be summed up for every entry in the new prob table (we'll call it k from now on)\n",
    "    n_summed = prob_sorted.shape[0] // n_possibilities\n",
    "    # take every k-th element as the values x_I\n",
    "    x_I = prob_sorted[::n_summed][:,I]\n",
    "    # now calculate the respective probabilities\n",
    "    probs_marg = np.add.reduceat(prob_sorted[:, -1], np.arange(0, len(prob_sorted), n_summed))\n",
    "    # now append the probabilities to the values\n",
    "    return np.c_[x_I, probs_marg]\n",
    "\n",
    "\n",
    "# TODO: calculate p(Vertigo, Vomit)\n",
    "marg = prior_marginal(prob_table, indices('Vertigo', 'Vomit'))\n",
    "marg\n"
   ]
  },
  {
   "cell_type": "markdown",
   "id": "ebf2ba3b",
   "metadata": {},
   "source": [
    "## Posterior Marginal\n",
    "For the posterior marginal, two subsets of indices $I, J\\subseteq\\{1,\\dots, 11\\}$ together with values $e_J\\in \\mathcal{X}_J$ are given and the conditional distribution \n",
    "\n",
    "\\begin{equation}\n",
    "p(x_I|x_J=e_J) \n",
    "\\end{equation}\n",
    "\n",
    "has to be computed.\n",
    "\n",
    "### Task 3\n",
    "Calculate the posterior marginal distribution of `Type` given we observe the patient feels sick (`Nausea`=1) but no has no tinitus (`Tinnitus`=0)."
   ]
  },
  {
   "cell_type": "code",
   "execution_count": 11,
   "id": "6d6dd8e9",
   "metadata": {},
   "outputs": [
    {
     "data": {
      "text/plain": [
       "array([[0.        , 0.14188566],\n",
       "       [1.        , 0.14202397],\n",
       "       [2.        , 0.14301521],\n",
       "       [3.        , 0.14188566],\n",
       "       [4.        , 0.14186261],\n",
       "       [5.        , 0.14732596],\n",
       "       [6.        , 0.14200092]])"
      ]
     },
     "execution_count": 11,
     "metadata": {},
     "output_type": "execute_result"
    }
   ],
   "source": [
    "def posterior_marginal(prob_table:np.ndarray, I:np.ndarray, J:np.ndarray, e_J:np.ndarray) -> np.ndarray:\n",
    "    '''\n",
    "    Computes the probability table for a subset of the indices given other subset is set to values.\n",
    "    \n",
    "    @Params:\n",
    "        prob_table... numpy array with columns holding values, last column holding the probabilities\n",
    "        I... numpy array with indices\n",
    "        J... numpy array with indices\n",
    "        e_J... numpy array with values for J\n",
    "    \n",
    "    @Returns:\n",
    "        numpy array with columns holding values, last column holding the probabilities for indices in I\n",
    "    '''\n",
    "    \n",
    "    # filter features (condition)\n",
    "    filter = np.all(prob_table[:,J] == e_J, axis=1)\n",
    "    # marginalize the rest\n",
    "    cond = prior_marginal(prob_table[filter], I)\n",
    "    # normalize\n",
    "    cond[:,-1] /= np.sum(cond[:,-1])\n",
    "    return cond\n",
    "\n",
    "\n",
    "# TODO: calculate p(Type | Nausea = 1, Tinnitus = 0)\n",
    "i = indices('Type')\n",
    "j = indices('Nausea', 'Tinnitus')\n",
    "posterior_marginal(prob_table, i, j, np.array([1, 0]))"
   ]
  },
  {
   "cell_type": "markdown",
   "id": "0b83ff5f",
   "metadata": {},
   "source": [
    "## Probability of Evidence\n",
    "\n",
    "For a subsets of indices $I, J \\subseteq \\{1, \\dots, 11\\}$ and evidence $e_I\\in \\mathcal{X}_I$ and $e_J\\in\\mathcal{X}_J$ compute the posterior marginal probability \n",
    "\n",
    "\\begin{equation}\n",
    "p(x_I = e_I| x_J = e_J)\\,.\n",
    "\\end{equation}\n",
    "\n",
    "In the special case $J = \\emptyset$, compute the prior marginal probability $p(x_I = e_I)$.\n",
    "\n",
    "### Task 4\n",
    "\n",
    "Calculate the probability of a short attack (`Duration` = 0) given the patient is $\\leq 20$ years (`Age` = 0) old and experiences swindle (`Vertigo` = 1)."
   ]
  },
  {
   "cell_type": "code",
   "execution_count": 12,
   "id": "618221ac",
   "metadata": {},
   "outputs": [
    {
     "data": {
      "text/plain": [
       "0.33334883072202337"
      ]
     },
     "execution_count": 12,
     "metadata": {},
     "output_type": "execute_result"
    }
   ],
   "source": [
    "def prob_of_evidence(prob_table:np.ndarray, I:np.ndarray, e_I: np.ndarray, J:np.ndarray, e_J:np.ndarray) -> float:\n",
    "    '''\n",
    "    Computes the probability of I being e_I given J is e_J.\n",
    "    \n",
    "    @Params:\n",
    "        prob_table... numpy array with columns holding values, last column holding the probabilities\n",
    "        I... numpy array with indices\n",
    "        e_I... numpy array with values for I\n",
    "        J... numpy array with indices\n",
    "        e_J... numpy array with values for J\n",
    "    \n",
    "    @Returns:\n",
    "        probability of I being e_I given J is e_J.\n",
    "    '''\n",
    "    \n",
    "    cond = posterior_marginal(prob_table, I, J, e_J)\n",
    "    # find out where the condition is true\n",
    "    filter = np.all(cond[:, :len(I)] == e_I, axis=1)\n",
    "    # should be only 1 entry\n",
    "    return cond[filter][0, -1]\n",
    "\n",
    "\n",
    "# TODO: calculate p(Duration = 0 | Age = 0, Vertigo = 1)\n",
    "i = indices('Duration')\n",
    "e_i = [0]\n",
    "j = indices('Age', 'Vertigo')\n",
    "e_j = [0, 1]\n",
    "prob_of_evidence(prob_table, i, e_i, j, e_j)"
   ]
  },
  {
   "cell_type": "markdown",
   "id": "32e25fa4",
   "metadata": {},
   "source": [
    "## Most probable explanation (MPE)\n",
    "\n",
    "Given evidence $e_J\\in\\mathcal{X}_J$ for a subset of indices $J\\subseteq\\{1,\\dots, 11\\}$, compute\n",
    "\n",
    "\\begin{equation}\n",
    "\\text{argmax}_{x\\in\\mathcal{X}} p(x|x_J = e_J)\\,.\n",
    "\\end{equation}\n",
    "\n",
    "### Task 5\n",
    "\n",
    "What is the intesity of the most probable explanation for a long (`Duration` = 2) migraine attack of a 30 years old (`Age` = 1) patient with Tinitus (`Tinnitus` = 1), both Phono- and Photophobia (`Phonophobia` = 1, `Photophobia` = 1) where we know that it is of the type \"Basilar-type aura\" (`Type` = 0)?"
   ]
  },
  {
   "cell_type": "code",
   "execution_count": 13,
   "id": "7401d7f1",
   "metadata": {},
   "outputs": [
    {
     "data": {
      "text/plain": [
       "3.0"
      ]
     },
     "execution_count": 13,
     "metadata": {},
     "output_type": "execute_result"
    }
   ],
   "source": [
    "def most_prob_explanation(prob_table:np.ndarray, J:np.ndarray, e_J:np.ndarray) -> np.ndarray:\n",
    "    '''\n",
    "    Computes the most probable x given some evidence\n",
    "    \n",
    "    @Params:\n",
    "        prob_table... numpy array with columns holding values, last column holding the probabilities\n",
    "        J... numpy array with indices\n",
    "        e_J... numpy array with values for J\n",
    "    \n",
    "    @Returns:\n",
    "        x that maximizes probability of x given J is set to e_J\n",
    "    '''\n",
    "    \n",
    "    # filter where features coincide\n",
    "    filter = np.all(prob_table[:, J] == e_J, axis=1)\n",
    "    filtered = prob_table[filter]\n",
    "    # get max prob\n",
    "    return filtered[np.argmax(filtered[:, -1]), :-1]\n",
    "\n",
    "\n",
    "# TODO: calculate intensity of argmax p(x | Age = 1, Tinnitus = 1, Duration = 2, Phonophobia = 1, Photophobia = 1, Type = 0)\n",
    "j = indices('Age', 'Tinnitus', 'Duration', 'Phonophobia', 'Photophobia', 'Type')\n",
    "e_j = [1, 1, 2, 1, 1, 0]\n",
    "mpe = most_prob_explanation(prob_table, j, e_j)\n",
    "mpe[columns.index('Intensity')]"
   ]
  },
  {
   "cell_type": "markdown",
   "id": "eed19568",
   "metadata": {},
   "source": [
    "### Maximum a Posteriori hypothesis (MAP)\n",
    "\n",
    "For a subsets of indices $I, J \\subseteq \\{1, \\dots, 11\\}$ and evidence $e_J\\in\\mathcal{X}_J$ compute \n",
    "\n",
    "\\begin{equation}\n",
    "\\text{argmax}_{x_I} p(x_I|x_J = e_J)\\,.\n",
    "\\end{equation}\n",
    "\n",
    "### Task 6\n",
    "What is the maximum a posteriori hypothesis for the type of migraine attack (`Type`) of a 15 year old person (`Age` = 0) that has tinnitus (`Tinnitus` = 1)?"
   ]
  },
  {
   "cell_type": "code",
   "execution_count": 14,
   "id": "f5abab7d",
   "metadata": {},
   "outputs": [
    {
     "data": {
      "text/plain": [
       "array([1.])"
      ]
     },
     "execution_count": 14,
     "metadata": {},
     "output_type": "execute_result"
    }
   ],
   "source": [
    "def max_a_posteriori(prob_table:np.ndarray, I:np.ndarray, J:np.ndarray, e_J:np.ndarray) -> np.ndarray:\n",
    "    '''\n",
    "    Computes the most probable x given some evidence\n",
    "    \n",
    "    @Params:\n",
    "        prob_table... numpy array with columns holding values, last column holding the probabilities\n",
    "        I... numpy array with indices\n",
    "        J... numpy array with indices\n",
    "        e_J... numpy array with values for J\n",
    "    \n",
    "    @Returns:\n",
    "        x_I that maximizes probability of x given J is set to e_J\n",
    "    '''\n",
    "    \n",
    "    filtered = posterior_marginal(prob_table, I, J, e_J)\n",
    "    # get max prob\n",
    "    return filtered[np.argmax(filtered[:, -1]), :-1]\n",
    "\n",
    "# TODO: calculate argmax p(type | age = 0, tinnitus = 1)\n",
    "i = indices('Type')\n",
    "j = indices('Age', 'Tinnitus')\n",
    "e_j = [0, 1]\n",
    "max_a_posteriori(prob_table, i, j, e_j)"
   ]
  },
  {
   "cell_type": "markdown",
   "id": "f4d3a55f",
   "metadata": {},
   "source": [
    "# Independence\n",
    "\n",
    "As pointed out in the lecture, the number of parameters reduces if we know two features are independent.\n",
    "Independence of features also has great value for the interpretation of data: One feature does not contain any information about the other.\n",
    "\n",
    "Here we want to look at **marginal independence**. Two features $x_i, x_j$ are marginally independent, if\n",
    "\\begin{equation}\n",
    "p(x_i, x_j) = p(x_i)p(x_j)\\,.\n",
    "\\end{equation}\n",
    "\n",
    "Of course in real data we will never have perfect marginal independence.\n",
    "\n",
    "### Task 7\n",
    "Implement the function `independence_error`, that calculates how similar the vectors\n",
    "\\begin{align}\n",
    "v_1 &= \\left[p(x_i = e_i, x_j = e_j)\\right]_{e_i\\in\\mathcal{X}_i,e_j\\in\\mathcal{X}_j}\\\\\n",
    "v_2 &= \\left[p(x_i = e_i)p(x_j = e_j)\\right]_{e_i\\in\\mathcal{X}_i,e_j\\in\\mathcal{X}_j}\\\\\n",
    "\\end{align}\n",
    "are. If they are very similar, they are close to being marginally independent.\n",
    "\n",
    "Which features are closest to being marginally independent from `Type`?"
   ]
  },
  {
   "cell_type": "code",
   "execution_count": 17,
   "id": "404350ea",
   "metadata": {},
   "outputs": [
    {
     "data": {
      "text/plain": [
       "[['Tinnitus', 0.0008908473316882811],\n",
       " ['Vertigo', 0.000880034323136643],\n",
       " ['Phonophobia', 0.0008705248413889903],\n",
       " ['Photophobia', 0.0008684019145065946],\n",
       " ['Nausea', 0.0008619743780921558],\n",
       " ['Paresthesia', 0.0008585995058281661],\n",
       " ['Conscience', 0.0008555802891182981],\n",
       " ['Intensity', 0.0006689385745864888],\n",
       " ['Age', 0.0004911444507421097],\n",
       " ['Duration', 0.000473124713760432],\n",
       " ['Vomit', 0.00046993221677923085],\n",
       " ['Type', -1]]"
      ]
     },
     "execution_count": 17,
     "metadata": {},
     "output_type": "execute_result"
    }
   ],
   "source": [
    "def independence_error(prob_table : np.ndarray, i : int, j : int) -> float:\n",
    "    '''\n",
    "    Compares the vectors p(x_i, x_j) and p(x_i)*p(x_j).\n",
    "    \n",
    "    @Params:\n",
    "        prob_table... numpy array with columns holding values, last column holding the probabilities\n",
    "        i... index of first feature\n",
    "        j... index of second feature\n",
    "        \n",
    "    @Returns:\n",
    "        difference of vectors p(x_i, x_j) and p(x_i)*p(x_j)\n",
    "    '''\n",
    "    \n",
    "    if i == j:\n",
    "        return -1\n",
    "    marg = prior_marginal(prob_table, [i, j])\n",
    "    v_1 = marg[:, -1]\n",
    "    # calc v2 by marginalizing again and combining possible values\n",
    "    # i is first, j is second\n",
    "    probs_i = prior_marginal(marg, [0])\n",
    "    probs_j = prior_marginal(marg, [1])\n",
    "    # combine\n",
    "    v_2 = np.array([prob_i * prob_j for x_j, prob_j in probs_j for x_i, prob_i in probs_i])\n",
    "    # calculate distance\n",
    "    return np.sqrt(np.sum((v_1 - v_2)**2))\n",
    "    \n",
    "\n",
    "# TODO: which features are close to marginal independence with 'type'?\n",
    "i = columns.index('Type')\n",
    "errors = [[columns[j], independence_error(prob_table, i, j)] for j in range(len(columns))]\n",
    "errors.sort(key=itemgetter(1), reverse=True)\n",
    "errors"
   ]
  },
  {
   "cell_type": "code",
   "execution_count": null,
   "id": "3d19ed0e",
   "metadata": {},
   "outputs": [],
   "source": []
  }
 ],
 "metadata": {
  "kernelspec": {
   "display_name": "Python 3.10.8 64-bit",
   "language": "python",
   "name": "python3"
  },
  "language_info": {
   "codemirror_mode": {
    "name": "ipython",
    "version": 3
   },
   "file_extension": ".py",
   "mimetype": "text/x-python",
   "name": "python",
   "nbconvert_exporter": "python",
   "pygments_lexer": "ipython3",
   "version": "3.10.8"
  },
  "vscode": {
   "interpreter": {
    "hash": "97cc609b13305c559618ec78a438abc56230b9381f827f22d070313b9a1f3777"
   }
  }
 },
 "nbformat": 4,
 "nbformat_minor": 5
}
