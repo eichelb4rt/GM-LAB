{
 "cells": [
  {
   "cell_type": "markdown",
   "id": "ce6eb788",
   "metadata": {},
   "source": [
    "# Exercise 2 - Multivariate Categoricals\n",
    "\n",
    "In this exercise, we will compare the Maximum Likelihood (ML) estimator with the Maximum A Posteriori (MAP) estimator for the tosses of a dice.\n",
    "\n",
    "In the event of a persistent problem, do not hesitate to contact the course instructors under\n",
    "- paul.kahlmeyer@uni-jena.de\n",
    "\n",
    "### Submission\n",
    "\n",
    "- Deadline of submission:\n",
    "        06.11.2022\n",
    "- Submission on [moodle page](https://moodle.uni-jena.de/course/view.php?id=34630)\n",
    "\n",
    "### Help\n",
    "In case you cannot solve a task, you can use the saved values within the `help` directory:\n",
    "- Load arrays with [Numpy](https://numpy.org/doc/stable/reference/generated/numpy.load.html)\n",
    "```\n",
    "np.load('help/array_name.npy')\n",
    "```\n",
    "- Load functions with [Dill](https://dill.readthedocs.io/en/latest/dill.html)\n",
    "```\n",
    "import dill\n",
    "with open('help/some_func.pkl', 'rb') as f:\n",
    "    func = dill.load(f)\n",
    "```\n",
    "\n",
    "to continue working on the other tasks."
   ]
  },
  {
   "cell_type": "markdown",
   "id": "f8f222b4",
   "metadata": {},
   "source": [
    "# An unfair die\n",
    "\n",
    "Suppose, we can observe the results of tossing a die. We want to know, if the die is fair or not. \n",
    "\n",
    "After we observed 20 tosses, we stop and analyse.\n",
    "\n",
    "Load the results of these 20 tosses from `die1.npy`."
   ]
  },
  {
   "cell_type": "code",
   "execution_count": null,
   "id": "ee80d951",
   "metadata": {},
   "outputs": [],
   "source": [
    "# TODO: load data"
   ]
  },
  {
   "cell_type": "markdown",
   "id": "f6eb384f",
   "metadata": {},
   "source": [
    "We consider the result of the dice toss as a multivariate categorical random variable\n",
    "\\begin{equation}\n",
    "X\\sim Cat(\\boldsymbol{p})\\,,\n",
    "\\end{equation}\n",
    "where $\\boldsymbol{p}$ is the vector of probabilities for tossing a certain result."
   ]
  },
  {
   "cell_type": "markdown",
   "id": "d7d3859b",
   "metadata": {},
   "source": [
    "## Maximum Likelihood Estimate\n",
    "\n",
    "The Maximum Likelihood estimator for multivariate categoricals on a dataset is defined as the vector\n",
    "\n",
    "\\begin{equation}\n",
    "\\boldsymbol{p}_{\\text{ML}} = \\left[\\cfrac{m(x)}{m}\\right]_{x\\in\\mathcal{X}}\\,,\n",
    "\\end{equation}\n",
    "where $\\mathcal{X}$ is the sample space, $m$ is the size of the dataset and $m(x)$ counts the number of occurences of $x$ in the dataset.\n",
    "\n",
    "\n",
    "### Task 1\n",
    "\n",
    "Implement this estimator within the function `estimate_ML`.\n",
    "Calculate the ML-Estimate for $\\boldsymbol{p}$."
   ]
  },
  {
   "cell_type": "code",
   "execution_count": null,
   "id": "10340a33",
   "metadata": {},
   "outputs": [],
   "source": [
    "def estimate_ML(observations, categories):\n",
    "    '''\n",
    "    Calculates the Maximum Likelihood estimate for p.\n",
    "    \n",
    "    @Params:\n",
    "        observations... observations\n",
    "        categories... possible outcomes\n",
    "    \n",
    "    @Returns:\n",
    "        estimated probability vector p_ML\n",
    "    '''\n",
    "    # TODO: implement\n",
    "    pass\n",
    "\n",
    "# TODO: estimate ML estimate of p"
   ]
  },
  {
   "cell_type": "markdown",
   "id": "7df0c103",
   "metadata": {},
   "source": [
    "## MAP Estimate\n",
    "\n",
    "In the Bayesian framework, we encode an initial belief over $\\boldsymbol{p}$ with a **prior distribution**.\n",
    "We then use observed evidence to **update the prior to a posterior distribution**.\n",
    "\n",
    "In our case, we use a [dirichlet distribution](https://en.wikipedia.org/wiki/Dirichlet_distribution) as prior. This distribution is defined by a parameter vector $\\alpha\\in\\mathbb{R}^{|\\mathcal{X}|}_{+}$. \n",
    "That is, we assume \n",
    "\\begin{equation}\n",
    "\\boldsymbol{p}\\sim\\text{Dir}(\\alpha)\\,.\n",
    "\\end{equation}\n",
    "The parameter vector $\\alpha$ has a positive entry for each element of the sample space.\n",
    "\n",
    "\n",
    "Now given a dataset $X$, we update our prior belief to a posterior belief:\n",
    "\\begin{equation}\n",
    "p(\\boldsymbol{p}) \\rightarrow p(\\boldsymbol{p}|X)\\,.\n",
    "\\end{equation}\n",
    "\n",
    "Since the dirichlet distribution is a [conjugate prior](https://en.wikipedia.org/wiki/Conjugate_prior), the posterior is again a dirichlet distribution\n",
    "\\begin{equation}\n",
    "p(\\boldsymbol{p}|X)\\sim\\text{Dir}(\\boldsymbol{m} + \\alpha)\\,\n",
    "\\end{equation}\n",
    "where $\\boldsymbol{m}$ is the vector \n",
    "\\begin{equation}\n",
    "\\left[m(x)\\right]_{x\\in\\mathcal{X}}\n",
    "\\end{equation}\n",
    "\n",
    "TLDR: We use data $X$ to update $\\alpha_{\\text{prior}}$ to $\\alpha_{\\text{posterior}}$.\n",
    "\n",
    "### Task 2\n",
    "Use a prior of $\\alpha_{\\text{prior}}=[10,10,10,10,10,10]$ and calculate $\\alpha_{\\text{posterior}}$ given our 20 tosses.\n",
    "Implement and use the `update` function. "
   ]
  },
  {
   "cell_type": "code",
   "execution_count": null,
   "id": "03cb6d20",
   "metadata": {},
   "outputs": [],
   "source": [
    "def update(prior_alpha, evidence, categories):\n",
    "    '''\n",
    "    Updates the parameter vector alpha from prior to posterior.\n",
    "    \n",
    "    @Params:\n",
    "        prior_alpha... alpha from prior distribution\n",
    "        evidence... observed evidence\n",
    "        categories... possible outcomes\n",
    "        \n",
    "    @Returns:\n",
    "         alpha of posterior distribution\n",
    "    '''\n",
    "    # TODO: implement\n",
    "    pass\n",
    "\n",
    "# TODO: update to posterior"
   ]
  },
  {
   "cell_type": "markdown",
   "id": "cc6d5d72",
   "metadata": {},
   "source": [
    "The Maximum A Posteriori (MAP) estimate is the vector $\\boldsymbol{p}$, where the posterior distribution has its maximum.\n",
    "\n",
    "For the dirichlet prior on multivariate categoricals this MAP estimate is\n",
    "\n",
    "\\begin{equation}\n",
    "\\boldsymbol{p}_{\\text{MAP}} = \\cfrac{m(x) + \\alpha_{\\text{posterior}}(x) -1}{m -|\\mathcal{X}| + \\sum_{x'\\in\\mathcal{X}}\\alpha_{\\text{posterior}}(x')}\\,.\n",
    "\\end{equation}\n",
    "\n",
    "### Task 3\n",
    "Implement this estimator within the `estimate_MAP` function. Calculate the MAP estimate."
   ]
  },
  {
   "cell_type": "code",
   "execution_count": null,
   "id": "99b45bd1",
   "metadata": {
    "scrolled": true
   },
   "outputs": [],
   "source": [
    "def estimate_MAP(prior_alpha, evidence, categories):\n",
    "    '''\n",
    "    Calculates the maximum a posteriori estimate for p.\n",
    "    \n",
    "    @Params:\n",
    "        prior_alpha... alpha from prior distribution\n",
    "        evidence... observed evidence\n",
    "        categories... possible outcomes\n",
    "    \n",
    "    \n",
    "    @Returns:\n",
    "        estimated probability vector p_MAP\n",
    "    '''\n",
    "    # TODO: implement\n",
    "    pass\n",
    "\n",
    "# TODO: calculate MAP estimate of p"
   ]
  },
  {
   "cell_type": "markdown",
   "id": "507be7c7",
   "metadata": {},
   "source": [
    "## Comparison\n",
    "\n",
    "Both estimators yield quite different results.\n",
    "This is due to the small number of 20 tosses that we observed so far.\n",
    "\n",
    "Load all 200 observations stored in `die2.npy`."
   ]
  },
  {
   "cell_type": "code",
   "execution_count": null,
   "id": "cde9d189",
   "metadata": {},
   "outputs": [],
   "source": [
    "# TODO: load all die throws"
   ]
  },
  {
   "cell_type": "markdown",
   "id": "76d8901e",
   "metadata": {},
   "source": [
    "### Task 4\n",
    "\n",
    "- Estimate $p_{\\text{ML}}$ and $p_{\\text{MAP}}$ for an increasing amount of observations.\n",
    "In each iteration, use 5 observations more than before. That is in the first iteration you use the first 5 observations, in the second iteraton you use the first 10 iterations and so on.\n",
    "\n",
    "- Visualize, how the estimates change with more available data.\n",
    "You can use the `utils.create_animation` function or write your own visualization.\n",
    "\n",
    "- Briefly describe, what you observe. Finally, do you think the die is unfair?"
   ]
  },
  {
   "cell_type": "code",
   "execution_count": null,
   "id": "2d04db9b",
   "metadata": {},
   "outputs": [],
   "source": [
    "# TODO: estimate ML and MAP for increasing number of samples"
   ]
  },
  {
   "cell_type": "code",
   "execution_count": null,
   "id": "de7dac71",
   "metadata": {},
   "outputs": [],
   "source": [
    "# TODO: visualize "
   ]
  },
  {
   "cell_type": "code",
   "execution_count": null,
   "id": "8d4bef32",
   "metadata": {},
   "outputs": [],
   "source": [
    "# TODO: describe observed effect + is die fair?"
   ]
  },
  {
   "cell_type": "markdown",
   "id": "bb83241d",
   "metadata": {},
   "source": []
  }
 ],
 "metadata": {
  "kernelspec": {
   "display_name": "Python 3 (ipykernel)",
   "language": "python",
   "name": "python3"
  },
  "language_info": {
   "codemirror_mode": {
    "name": "ipython",
    "version": 3
   },
   "file_extension": ".py",
   "mimetype": "text/x-python",
   "name": "python",
   "nbconvert_exporter": "python",
   "pygments_lexer": "ipython3",
   "version": "3.9.12"
  }
 },
 "nbformat": 4,
 "nbformat_minor": 5
}
