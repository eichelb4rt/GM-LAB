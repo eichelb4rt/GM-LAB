{
 "cells": [
  {
   "cell_type": "markdown",
   "id": "ce6eb788",
   "metadata": {},
   "source": [
    "# Exercise 2 - Multivariate Categoricals\n",
    "\n",
    "In this exercise, we will compare the Maximum Likelihood (ML) estimator with the Maximum A Posteriori (MAP) estimator for the tosses of a dice.\n",
    "\n",
    "In the event of a persistent problem, do not hesitate to contact the course instructors under\n",
    "- paul.kahlmeyer@uni-jena.de\n",
    "\n",
    "### Submission\n",
    "\n",
    "- Deadline of submission:\n",
    "        06.11.2022\n",
    "- Submission on [moodle page](https://moodle.uni-jena.de/course/view.php?id=34630)\n",
    "\n",
    "### Help\n",
    "In case you cannot solve a task, you can use the saved values within the `help` directory:\n",
    "- Load arrays with [Numpy](https://numpy.org/doc/stable/reference/generated/numpy.load.html)\n",
    "```\n",
    "np.load('help/array_name.npy')\n",
    "```\n",
    "- Load functions with [Dill](https://dill.readthedocs.io/en/latest/dill.html)\n",
    "```\n",
    "import dill\n",
    "with open('help/some_func.pkl', 'rb') as f:\n",
    "    func = dill.load(f)\n",
    "```\n",
    "\n",
    "to continue working on the other tasks."
   ]
  },
  {
   "cell_type": "markdown",
   "id": "f8f222b4",
   "metadata": {},
   "source": [
    "# An unfair die\n",
    "\n",
    "Suppose, we can observe the results of tossing a die. We want to know, if the die is fair or not. \n",
    "\n",
    "After we observed 20 tosses, we stop and analyse.\n",
    "\n",
    "Load the results of these 20 tosses from `die1.npy`."
   ]
  },
  {
   "cell_type": "code",
   "execution_count": 1,
   "id": "ee80d951",
   "metadata": {},
   "outputs": [],
   "source": [
    "import numpy as np\n",
    "\n",
    "tosses = np.load(\"die1.npy\")"
   ]
  },
  {
   "cell_type": "markdown",
   "id": "f6eb384f",
   "metadata": {},
   "source": [
    "We consider the result of the dice toss as a multivariate categorical random variable\n",
    "\\begin{equation}\n",
    "X\\sim Cat(\\boldsymbol{p})\\,,\n",
    "\\end{equation}\n",
    "where $\\boldsymbol{p}$ is the vector of probabilities for tossing a certain result."
   ]
  },
  {
   "cell_type": "markdown",
   "id": "d7d3859b",
   "metadata": {},
   "source": [
    "## Maximum Likelihood Estimate\n",
    "\n",
    "The Maximum Likelihood estimator for multivariate categoricals on a dataset is defined as the vector\n",
    "\n",
    "\\begin{equation}\n",
    "\\boldsymbol{p}_{\\text{ML}} = \\left[\\cfrac{m(x)}{m}\\right]_{x\\in\\mathcal{X}}\\,,\n",
    "\\end{equation}\n",
    "where $\\mathcal{X}$ is the sample space, $m$ is the size of the dataset and $m(x)$ counts the number of occurences of $x$ in the dataset.\n",
    "\n",
    "\n",
    "### Task 1\n",
    "\n",
    "Implement this estimator within the function `estimate_ML`.\n",
    "Calculate the ML-Estimate for $\\boldsymbol{p}$."
   ]
  },
  {
   "cell_type": "code",
   "execution_count": 2,
   "id": "10340a33",
   "metadata": {},
   "outputs": [
    {
     "data": {
      "text/plain": [
       "array([0.15, 0.3 , 0.25, 0.1 , 0.15, 0.05])"
      ]
     },
     "execution_count": 2,
     "metadata": {},
     "output_type": "execute_result"
    }
   ],
   "source": [
    "from collections import Counter\n",
    "\n",
    "def estimate_ML(observations, categories):\n",
    "    '''\n",
    "    Calculates the Maximum Likelihood estimate for p.\n",
    "    \n",
    "    @Params:\n",
    "        observations... observations\n",
    "        categories... possible outcomes\n",
    "    \n",
    "    @Returns:\n",
    "        estimated probability vector p_ML\n",
    "    '''\n",
    "    \n",
    "    c = Counter(observations)\n",
    "    return np.array([c[x] for x in categories]) / len(observations)\n",
    "    \n",
    "cats = [1, 2, 3, 4, 5, 6]\n",
    "p = estimate_ML(tosses, cats)\n",
    "p"
   ]
  },
  {
   "cell_type": "markdown",
   "id": "7df0c103",
   "metadata": {},
   "source": [
    "## MAP Estimate\n",
    "\n",
    "In the Bayesian framework, we encode an initial belief over $\\boldsymbol{p}$ with a **prior distribution**.\n",
    "We then use observed evidence to **update the prior to a posterior distribution**.\n",
    "\n",
    "In our case, we use a [dirichlet distribution](https://en.wikipedia.org/wiki/Dirichlet_distribution) as prior. This distribution is defined by a parameter vector $\\alpha\\in\\mathbb{R}^{|\\mathcal{X}|}_{+}$. \n",
    "That is, we assume \n",
    "\\begin{equation}\n",
    "\\boldsymbol{p}\\sim\\text{Dir}(\\alpha)\\,.\n",
    "\\end{equation}\n",
    "The parameter vector $\\alpha$ has a positive entry for each element of the sample space.\n",
    "\n",
    "\n",
    "Now given a dataset $X$, we update our prior belief to a posterior belief:\n",
    "\\begin{equation}\n",
    "p(\\boldsymbol{p}) \\rightarrow p(\\boldsymbol{p}|X)\\,.\n",
    "\\end{equation}\n",
    "\n",
    "Since the dirichlet distribution is a [conjugate prior](https://en.wikipedia.org/wiki/Conjugate_prior), the posterior is again a dirichlet distribution\n",
    "\\begin{equation}\n",
    "p(\\boldsymbol{p}|X)\\sim\\text{Dir}(\\boldsymbol{m} + \\alpha)\\,\n",
    "\\end{equation}\n",
    "where $\\boldsymbol{m}$ is the vector \n",
    "\\begin{equation}\n",
    "\\left[m(x)\\right]_{x\\in\\mathcal{X}}\n",
    "\\end{equation}\n",
    "\n",
    "TLDR: We use data $X$ to update $\\alpha_{\\text{prior}}$ to $\\alpha_{\\text{posterior}}$.\n",
    "\n",
    "### Task 2\n",
    "Use a prior of $\\alpha_{\\text{prior}}=[10,10,10,10,10,10]$ and calculate $\\alpha_{\\text{posterior}}$ given our 20 tosses.\n",
    "Implement and use the `update` function. "
   ]
  },
  {
   "cell_type": "code",
   "execution_count": 3,
   "id": "03cb6d20",
   "metadata": {},
   "outputs": [
    {
     "data": {
      "text/plain": [
       "array([13, 16, 15, 12, 13, 11])"
      ]
     },
     "execution_count": 3,
     "metadata": {},
     "output_type": "execute_result"
    }
   ],
   "source": [
    "def update(prior_alpha, evidence, categories):\n",
    "    '''\n",
    "    Updates the parameter vector alpha from prior to posterior.\n",
    "\n",
    "    @Params:\n",
    "        prior_alpha... alpha from prior distribution\n",
    "        evidence... observed evidence\n",
    "        categories... possible outcomes\n",
    "\n",
    "    @Returns:\n",
    "         alpha of posterior distribution\n",
    "    '''\n",
    "\n",
    "    c = Counter(evidence)\n",
    "    m = np.array([c[x] for x in categories])\n",
    "    return prior_alpha + m\n",
    "\n",
    "\n",
    "alpha_prior = np.array([10] * 6)\n",
    "alpha_posterior = update(alpha_prior, tosses, cats)\n",
    "alpha_posterior"
   ]
  },
  {
   "cell_type": "markdown",
   "id": "cc6d5d72",
   "metadata": {},
   "source": [
    "The Maximum A Posteriori (MAP) estimate is the vector $\\boldsymbol{p}$, where the posterior distribution has its maximum.\n",
    "\n",
    "For the dirichlet prior on multivariate categoricals this MAP estimate is\n",
    "\n",
    "\\begin{equation}\n",
    "\\boldsymbol{p}_{\\text{MAP}} = \\cfrac{m(x) + \\alpha_{\\text{posterior}}(x) -1}{m -|\\mathcal{X}| + \\sum_{x'\\in\\mathcal{X}}\\alpha_{\\text{posterior}}(x')}\\,.\n",
    "\\end{equation}\n",
    "\n",
    "### Task 3\n",
    "Implement this estimator within the `estimate_MAP` function. Calculate the MAP estimate."
   ]
  },
  {
   "cell_type": "code",
   "execution_count": 4,
   "id": "99b45bd1",
   "metadata": {
    "scrolled": true
   },
   "outputs": [
    {
     "data": {
      "text/plain": [
       "array([0.16216216, 0.2027027 , 0.18918919, 0.14864865, 0.16216216,\n",
       "       0.13513514])"
      ]
     },
     "execution_count": 4,
     "metadata": {},
     "output_type": "execute_result"
    }
   ],
   "source": [
    "def estimate_MAP(prior_alpha, evidence, categories):\n",
    "    '''\n",
    "    Calculates the maximum a posteriori estimate for p.\n",
    "    \n",
    "    @Params:\n",
    "        prior_alpha... alpha from prior distribution\n",
    "        evidence... observed evidence\n",
    "        categories... possible outcomes\n",
    "    \n",
    "    \n",
    "    @Returns:\n",
    "        estimated probability vector p_MAP\n",
    "    '''\n",
    "    \n",
    "    posterior_alpha = update(prior_alpha, evidence, categories)\n",
    "    return (posterior_alpha - 1) / (np.sum(posterior_alpha) - len(categories))\n",
    "\n",
    "# TODO: calculate MAP estimate of p\n",
    "p_map = estimate_MAP(alpha_prior, tosses, cats)\n",
    "p_map"
   ]
  },
  {
   "cell_type": "markdown",
   "id": "507be7c7",
   "metadata": {},
   "source": [
    "## Comparison\n",
    "\n",
    "Both estimators yield quite different results.\n",
    "This is due to the small number of 20 tosses that we observed so far.\n",
    "\n",
    "Load all 200 observations stored in `die2.npy`."
   ]
  },
  {
   "cell_type": "code",
   "execution_count": 5,
   "id": "cde9d189",
   "metadata": {},
   "outputs": [],
   "source": [
    "all_tosses = np.load(\"die2.npy\")"
   ]
  },
  {
   "cell_type": "markdown",
   "id": "76d8901e",
   "metadata": {},
   "source": [
    "### Task 4\n",
    "\n",
    "- Estimate $p_{\\text{ML}}$ and $p_{\\text{MAP}}$ for an increasing amount of observations.\n",
    "In each iteration, use 5 observations more than before. That is in the first iteration you use the first 5 observations, in the second iteraton you use the first 10 iterations and so on.\n",
    "\n",
    "- Visualize, how the estimates change with more available data.\n",
    "You can use the `utils.create_animation` function or write your own visualization.\n",
    "\n",
    "- Briefly describe, what you observe. Finally, do you think the die is unfair?"
   ]
  },
  {
   "cell_type": "code",
   "execution_count": 6,
   "id": "2d04db9b",
   "metadata": {},
   "outputs": [],
   "source": [
    "# TODO: estimate ML and MAP for increasing number of samples\n",
    "step_size = 5\n",
    "ms = range(step_size, len(all_tosses) + 1, step_size)\n",
    "mls = [estimate_ML(all_tosses[:m], cats) for m in ms]\n",
    "maps = [estimate_MAP(alpha_prior, all_tosses[:m], cats) for m in ms]"
   ]
  },
  {
   "cell_type": "code",
   "execution_count": 9,
   "id": "de7dac71",
   "metadata": {},
   "outputs": [
    {
     "data": {
      "application/vnd.jupyter.widget-view+json": {
       "model_id": "b008e450ab7145cdb7a2e1bccfebcb5b",
       "version_major": 2,
       "version_minor": 0
      },
      "image/png": "[encoded data removed]",
      "text/html": [
       "\n",
       "            <div style=\"display: inline-block;\">\n",
       "                <div class=\"jupyter-widgets widget-label\" style=\"text-align: center;\">\n",
       "                    Figure\n",
       "                </div>\n",
       "                <img src='data:image/png;base64,iVBORw0KGgoAAAANSUhEUgAAAoAAAAHgCAYAAAA10dzkAAAAOXRFWHRTb2Z0d2FyZQBNYXRwbG90bGliIHZlcnNpb24zLjYuMiwgaHR0cHM6Ly9tYXRwbG90bGliLm9yZy8o6BhiAAAACXBIWXMAAA9hAAAPYQGoP6dpAABFU0lEQVR4nO3deVRV5f7H8c8BY3ACFWUwFFDTLBEFJcwhkwQz09tE/jKQTMscKrIBr4GmBZp6yTQtB7TBtOu12bAiyQbS0sjKIce0FBwSELyCwvn90fLcToADcjgc9/u11l6X8+xnP/u7d9zFx2cPx2Q2m80CAACAYTjZuwAAAADULgIgAACAwRAAAQAADIYACAAAYDAEQAAAAIMhAAIAABgMARAAAMBgCIAAAAAGQwAEAAAwGAIgAACAwRAAAQAADIYACAAAYDAEQAAAAIMhAAIAABgMARAAAMBgCIAAAAAGQwAEAAAwGAIgAACAwRAAAQAADIYACAAAYDAEQAAAAIMhAAIAABgMARAAAMBgCIAAAAAGQwAEAAAwGAIgAACAwRAAAQAADIYACAAAYDAEQAAAAIMhAAIAABgMARAAAMBgCIAAAAAGQwAEAAAwGAIgAACAwRAAAdRJWVlZMplMWrVqlb1LuSB5eXm644471KxZM5lMJqWlpV3U9vv27ZPJZNLSpUttUh8A/BUBEDCwpUuXymQyyc3NTb///nuF9TfccIOuvfZaO1TmeB599FGtXbtWiYmJeu211xQdHV1r+/766681efJk5efn1+i4Z38/Kltyc3NrdF8Aalc9excAwP5KSkqUmpqqF1980d6lOKzPPvtMgwcP1oQJE2p9319//bWmTJmi4cOHy9PTs8bHf+aZZxQYGGjVZov9AKg9BEAACgkJ0cKFC5WYmCg/Pz97l1OriouL1aBBg0se5/Dhw5dtKBowYIDCwsLsXQaAGsQlYACaOHGiysrKlJqaes5+57pPzWQyafLkyZbPkydPlslk0i+//KJhw4bJw8NDzZs319NPPy2z2awDBw5o8ODBaty4sXx8fDRr1qxK91lWVqaJEyfKx8dHDRo00K233qoDBw5U6LdhwwZFR0fLw8ND9evXV58+ffTVV19Z9Tlb09atW/V///d/atKkiXr27HnOY96zZ4/uvPNONW3aVPXr19d1112nDz/80LL+7GVSs9msefPmWS6Rnkt+fr6GDx8uDw8PeXp6Ki4urtLLt1u2bNHw4cMVFBQkNzc3+fj46L777tOxY8esjunxxx+XJAUGBlr2v2/fPklSenq6brzxRrVo0UKurq7q2LGj5s+ff876KnPixAmVlZVd9HYA6iZmAAEoMDBQsbGxWrhwoZ566qkanQWMiYnR1VdfrdTUVH344YeaNm2amjZtqpdfflk33nijpk+frjfeeEMTJkxQt27d1Lt3b6vtn332WZlMJj355JM6fPiw0tLSFBkZqZycHLm7u0v68/LrgAEDFBoaquTkZDk5OVmCzxdffKHu3btbjXnnnXeqXbt2eu6552Q2m6usPS8vTz169NDJkyc1fvx4NWvWTMuWLdOtt96qVatW6R//+Id69+6t1157Tffee69uuukmxcbGnvN8mM1mDR48WF9++aUefPBBXX311Xr77bcVFxdXoe8nn3yiPXv2KD4+Xj4+Pvr555/1yiuv6Oeff9Y333wjk8mk2267Tb/88ovefPNN/etf/5KXl5ckqXnz5pKk+fPn65prrtGtt96qevXq6f3339dDDz2k8vJyjRkz5vz/ASX17dtXRUVFcnFxUVRUlGbNmqV27dpd0LYA6igzAMNKT083SzJ/++235t27d5vr1atnHj9+vGV9nz59zNdcc43l8969e82SzOnp6RXGkmROTk62fE5OTjZLMo8aNcrSdubMGfOVV15pNplM5tTUVEv78ePHze7u7ua4uDhL27p168ySzC1btjQXFhZa2t966y2zJPMLL7xgNpvN5vLycnO7du3MUVFR5vLycku/kydPmgMDA8033XRThZqGDh16QefnkUceMUsyf/HFF5a2EydOmAMDA80BAQHmsrIyq+MfM2bMecd85513zJLMM2bMsDovvXr1qnBuT548WWH7N9980yzJvH79ekvb888/b5Zk3rt3b4X+lY0RFRVlDgoKOm+tK1euNA8fPty8bNky89tvv22eNGmSuX79+mYvLy/z/v37z7s9gLqLS8AAJElBQUG699579corr+jQoUM1Nu79999v+dnZ2VlhYWEym80aMWKEpd3T01Pt27fXnj17KmwfGxurRo0aWT7fcccd8vX11Zo1ayRJOTk52rlzp/7v//5Px44d09GjR3X06FEVFxerX79+Wr9+vcrLy63GfPDBBy+o9jVr1qh79+5Wl4kbNmyoUaNGad++fdq6deuFnYS/jVmvXj2NHj3a0ubs7Kxx48ZV6Ht2hlOSTp06paNHj+q6666TJG3evPmC9vfXMQoKCnT06FH16dNHe/bsUUFBwTm3veuuu5Senq7Y2FgNGTJEU6dO1dq1a3Xs2DE9++yzF7R/AHUTARCAxaRJk3TmzJnz3gt4MVq1amX12cPDQ25ubpZLlX9tP378eIXt/36p0WQyqW3btpZ73Hbu3ClJiouLU/Pmza2WRYsWqaSkpELQ+fsTrVX59ddf1b59+wrtV199tWX9xfr111/l6+urhg0bWrVXtp8//vhDDz/8sLy9veXu7q7mzZtbaj9feDvrq6++UmRkpBo0aCBPT081b95cEydOvKgx/qpnz54KDw/Xp59+etHbAqg7uAcQgEVQUJCGDRumV155RU899VSF9VU93HCuhwOcnZ0vqE3SOe/Hq8rZ2b3nn39eISEhlfb5e9j666xYXXbXXXfp66+/1uOPP66QkBA1bNhQ5eXlio6OrjCrWZndu3erX79+6tChg2bPni1/f3+5uLhozZo1+te//nVBY1TG399fO3bsqNa2AOoGAiAAK5MmTdLrr7+u6dOnV1jXpEkTSarwxGp1ZsIu1NkZvrPMZrN27dql4OBgSVKbNm0kSY0bN1ZkZGSN7rt169aVBp3t27db1ldnzMzMTBUVFVkF07/v5/jx48rMzNSUKVOUlJRkaf/7+ZCqDubvv/++SkpK9N5771nNxK5bt+6i6/6rPXv2WB4yAeCYuAQMwEqbNm00bNgwvfzyyxW+7aFx48by8vLS+vXrrdpfeuklm9Xz6quv6sSJE5bPq1at0qFDhzRgwABJUmhoqNq0aaOZM2eqqKiowvZHjhyp9r5vvvlmbdy4UdnZ2Za24uJivfLKKwoICFDHjh2rNeaZM2esXsVSVlZW4SXcZ2dJ/z4rWtlXzJ19j+Hfg3llYxQUFCg9Pf2Caq3s3K1Zs0abNm2q1W86AVDzmAEEUME///lPvfbaa9qxY4euueYaq3X333+/UlNTdf/99yssLEzr16/XL7/8YrNamjZtqp49eyo+Pl55eXlKS0tT27ZtNXLkSEmSk5OTFi1apAEDBuiaa65RfHy8WrZsqd9//13r1q1T48aN9f7771dr30899ZTefPNNDRgwQOPHj1fTpk21bNky7d27V//5z3/k5HTx/4YeNGiQrr/+ej311FPat2+fOnbsqNWrV1e4H69x48bq3bu3ZsyYodOnT6tly5b6+OOPtXfv3gpjhoaGSvrzv9vdd9+tK664QoMGDVL//v3l4uKiQYMG6YEHHlBRUZEWLlyoFi1aXNCDPj169FCXLl0UFhYmDw8Pbd68WUuWLJG/v7/lPkIAjokACKCCtm3batiwYVq2bFmFdUlJSTpy5IhWrVqlt956SwMGDNBHH32kFi1a2KSWiRMnasuWLUpJSdGJEyfUr18/vfTSS6pfv76lzw033KDs7GxNnTpVc+fOVVFRkXx8fBQeHq4HHnig2vv29vbW119/rSeffFIvvviiTp06peDgYL3//vsaOHBgtcZ0cnLSe++9p0ceeUSvv/66TCaTbr31Vs2aNUtdunSx6rt8+XKNGzdO8+bNk9lsVv/+/fXRRx9VeE9jt27dNHXqVC1YsEAZGRkqLy/X3r171b59e61atUqTJk3ShAkT5OPjo9GjR6t58+a67777zltrTEyMPvzwQ3388cc6efKkfH19NXLkSCUnJ8vb27taxw+gbjCZq3PXNQAAABwW9wACAAAYDAEQAADAYAiAAAAABkMABAAAMBgCIAAAgMEQAAEAAAyGAAgAAGAwvAj6EpSXl+vgwYNq1KhRld/FCQAA6haz2awTJ07Iz8+vWt/oczkgAF6CgwcPyt/f395lAACAajhw4ICuvPJKe5dhFwTAS9CoUSNJf/4CNW7c2M7VAACAC1FYWCh/f3/L33EjIgBegrOXfRs3bkwABADAwRj59i1jXvgGAAAwMAIgAACAwRAAAQAADIZ7AG3MbDbrzJkzKisrs3cpDsPZ2Vn16tUz9L0ZAADYEgHQhkpLS3Xo0CGdPHnS3qU4nPr168vX11cuLi72LgUAgMsOAdBGysvLtXfvXjk7O8vPz08uLi7MaF0As9ms0tJSHTlyRHv37lW7du0M+5JOAABshQBoI6WlpSovL5e/v7/q169v73Iciru7u6644gr9+uuvKi0tlZubm71LAgDgssLUio0xe1U9nDcAAGyHv7IAAAAGQwAEAAAwGIe6B3DevHl6/vnnlZubq86dO+vFF19U9+7dz7vdihUrNHToUA0ePFjvvPOOpd1sNis5OVkLFy5Ufn6+rr/+es2fP1/t2rWz4VFI//rkF5uO/1eP3nTVRW8zfPhwLVu2TA888IAWLFhgtW7MmDF66aWXFBcXp6VLl1ras7Oz1bNnT0VHR+vDDz+02mbfvn0KDAy0fG7atKlCQ0M1ffp0denS5aLrAwAAl8ZhZgBXrlyphIQEJScna/PmzercubOioqJ0+PDhc263b98+TZgwQb169aqwbsaMGZozZ44WLFigDRs2qEGDBoqKitKpU6dsdRgOw9/fXytWrNB///tfS9upU6e0fPlytWrVqkL/xYsXa9y4cVq/fr0OHjxY6ZiffvqpDh06pLVr16qoqEgDBgxQfn6+rQ4BAABUwWEC4OzZszVy5EjFx8erY8eOWrBggerXr68lS5ZUuU1ZWZnuueceTZkyRUFBQVbrzGaz0tLSNGnSJA0ePFjBwcF69dVXdfDgQatZQqPq2rWr/P39tXr1akvb6tWr1apVqwqzdkVFRVq5cqVGjx6tgQMHWs0M/lWzZs3k4+OjsLAwzZw5U3l5edqwYYMtDwMAAFTCIQJgaWmpNm3apMjISEubk5OTIiMjlZ2dXeV2zzzzjFq0aKERI0ZUWLd3717l5uZajenh4aHw8PAqxywpKVFhYaHVcjm77777lJ6ebvm8ZMkSxcfHV+j31ltvqUOHDmrfvr2GDRumJUuWyGw2n3Nsd3d3SX/+twUAALXLIe4BPHr0qMrKyuTt7W3V7u3tre3bt1e6zZdffqnFixcrJyen0vW5ubmWMf4+5tl1f5eSkqIpU6ZcZPWOa9iwYUpMTNSvv/4qSfrqq6+0YsUKZWVlWfVbvHixhg0bJkmKjo5WQUGBPv/8c91www2Vjpufn6+pU6eqYcOGF3QP50VZl1Kz4zmKvon2rgAA4EAcYgbwYp04cUL33nuvFi5cKC8vrxobNzExUQUFBZblwIEDNTZ2XdS8eXPLJd309HQNHDiwwvncsWOHNm7cqKFDh0qS6tWrp5iYGC1evLjCeD169FDDhg3VpEkT/fDDD1q5cmWFAA4AAGzPIWYAvby85OzsrLy8PKv2vLw8+fj4VOi/e/du7du3T4MGDbK0lZeXS/ozoOzYscOyXV5ennx9fa3GDAkJqbQOV1dXubq6XurhOJT77rtPY8eOlfTnU9h/t3jxYp05c0Z+fn6WNrPZLFdXV82dO1ceHh6W9pUrV6pjx45q1qyZPD09bV47AAConEPMALq4uCg0NFSZmZmWtvLycmVmZioiIqJC/w4dOujHH39UTk6OZbn11lvVt29f5eTkyN/fX4GBgfLx8bEas7CwUBs2bKh0TKOKjo5WaWmpTp8+raioKKt1Z86c0auvvqpZs2ZZnesffvhBfn5+evPNN636+/v7q02bNoQ/AADszCFmACUpISFBcXFxCgsLU/fu3ZWWlqbi4mLLQwmxsbFq2bKlUlJS5ObmpmuvvdZq+7Oh46/tjzzyiKZNm6Z27dopMDBQTz/9tPz8/DRkyJDaOqw6z9nZWdu2bbP8/FcffPCBjh8/rhEjRljN9EnS7bffrsWLF+vBBx+stVoBAMCFcZgAGBMToyNHjigpKUm5ubkKCQlRRkaG5R6y/fv3X/T3xz7xxBMqLi7WqFGjlJ+fr549eyojI0Nubm62OASH1bhx40rbFy9erMjIyArhT/ozAM6YMUNbtmypcnsAAGAfJvP53teBKhUWFsrDw0MFBQUVQs6pU6e0d+9eBQYGEiirodrnj6eAAQDnca6/30bhEPcAAgAAoOYQAAEAAAyGAAgAAGAwBEAAAACDIQACAAAYDAEQAADAYAiAAAAABkMABAAAMBgCIAAAgMEQAAEAAAzGYb4L+LJSm19XVo2vCBs+fLiWLVumBx54QAsWLLBaN2bMGL300kuKi4vT0qVLNXz4cOXn5+udd96poYIBAICtMQOISvn7+2vFihX673//a2k7deqUli9frlatWtmxMgAAcKkIgKhU165d5e/vr9WrV1vaVq9erVatWqlLly52rAwAAFwqAiCqdN999yk9Pd3yecmSJYqPj7djRQAAoCYQAFGlYcOG6csvv9Svv/6qX3/9VV999ZWGDRtm77IAAMAl4iEQVKl58+YaOHCgli5dKrPZrIEDB8rLy8veZQEAgEtEAMQ53XfffRo7dqwkad68eXauBgAA1AQCIM4pOjpapaWlMplMioqKsnc5AACgBhAAcU7Ozs7atm2b5efKFBQUKCcnx6qtWbNm8vf3t3V5AACgGgiAOK/GjRufc31WVlaFV8OMGDFCixYtsmVZAACgmkxms9ls7yIcVWFhoTw8PFRQUFAhJJ06dUp79+5VYGCg3Nzc7FSh46r2+avNb1mpS6rxjS8AYFTn+vttFLwGBgAAwGAIgAAAAAZDAAQAADAYAiAAAIDBEAABAAAMhgBoYzxkXT2cNwAAbIcAaCNXXHGFJOnkyZN2rsQxnT1vZ88jAACoObwI2kacnZ3l6empw4cPS5Lq168vk8lk56rqPrPZrJMnT+rw4cPy9PSs8ttHAABA9REAbcjHx0eSLCEQF87T09Ny/gAAQM0iANqQyWSSr6+vWrRoodOnT9u7HIdxxRVXMPMHAIANEQBrgbOzM4EGAADUGTwEAgAAYDAOFQDnzZungIAAubm5KTw8XBs3bqyy7+rVqxUWFiZPT081aNBAISEheu2116z6DB8+XCaTyWqJjo629WEAAADYlcNcAl65cqUSEhK0YMEChYeHKy0tTVFRUdqxY4datGhRoX/Tpk31z3/+Ux06dJCLi4s++OADxcfHq0WLFoqKirL0i46OVnp6uuWzq6trrRwPAACAvTjMDODs2bM1cuRIxcfHq2PHjlqwYIHq16+vJUuWVNr/hhtu0D/+8Q9dffXVatOmjR5++GEFBwfryy+/tOrn6uoqHx8fy9KkSZPaOBwAAAC7cYgAWFpaqk2bNikyMtLS5uTkpMjISGVnZ593e7PZrMzMTO3YsUO9e/e2WpeVlaUWLVqoffv2Gj16tI4dO1blOCUlJSosLLRaAAAAHI1DXAI+evSoysrK5O3tbdXu7e2t7du3V7ldQUGBWrZsqZKSEjk7O+ull17STTfdZFkfHR2t2267TYGBgdq9e7cmTpyoAQMGKDs7u9KndlNSUjRlypSaOzAAAAA7cIgAWF2NGjVSTk6OioqKlJmZqYSEBAUFBemGG26QJN19992Wvp06dVJwcLDatGmjrKws9evXr8J4iYmJSkhIsHwuLCyUv7+/zY8DAACgJjlEAPTy8pKzs7Py8vKs2vPy8s75bRFOTk5q27atJCkkJETbtm1TSkqKJQD+XVBQkLy8vLRr165KA6CrqysPiQAAAIfnEPcAuri4KDQ0VJmZmZa28vJyZWZmKiIi4oLHKS8vV0lJSZXrf/vtNx07dky+vr6XVC8AAEBd5hAzgJKUkJCguLg4hYWFqXv37kpLS1NxcbHi4+MlSbGxsWrZsqVSUlIk/Xm/XlhYmNq0aaOSkhKtWbNGr732mubPny9JKioq0pQpU3T77bfLx8dHu3fv1hNPPKG2bdtavSYGAADgcuMwATAmJkZHjhxRUlKScnNzFRISooyMDMuDIfv375eT0/8mNIuLi/XQQw/pt99+k7u7uzp06KDXX39dMTExkv78erYtW7Zo2bJlys/Pl5+fn/r376+pU6dymRcAAFzWTGaz2WzvIhxVYWGhPDw8VFBQoMaNG9u7HEjSuhR7V2AffRPtXQEAOAz+fjvIPYAAAACoOQRAAAAAgyEAAgAAGAwBEAAAwGAIgAAAAAZDAAQAADAYAiAAAIDBEAABAAAMhgAIAABgMARAAAAAgyEAAgAAGAwBEAAAwGAIgAAAAAZDAAQAADAYAiAAAIDBEAABAAAMhgAIAABgMARAAAAAgyEAAgAAGAwBEAAAwGAIgAAAAAZDAAQAADAYAiAAAIDBEAABAAAMhgAIAABgMARAAAAAgyEAAgAAGAwBEAAAwGAIgAAAAAZDAAQAADAYAiAAAIDBEAABAAAMhgAIAABgMA4VAOfNm6eAgAC5ubkpPDxcGzdurLLv6tWrFRYWJk9PTzVo0EAhISF67bXXrPqYzWYlJSXJ19dX7u7uioyM1M6dO219GAAAAHblMAFw5cqVSkhIUHJysjZv3qzOnTsrKipKhw8frrR/06ZN9c9//lPZ2dnasmWL4uPjFR8fr7Vr11r6zJgxQ3PmzNGCBQu0YcMGNWjQQFFRUTp16lRtHRYAAECtM5nNZrO9i7gQ4eHh6tatm+bOnStJKi8vl7+/v8aNG6ennnrqgsbo2rWrBg4cqKlTp8psNsvPz0+PPfaYJkyYIEkqKCiQt7e3li5dqrvvvvu84xUWFsrDw0MFBQVq3Lhx9Q8ONWddir0rsI++ifauAAAcBn+/HWQGsLS0VJs2bVJkZKSlzcnJSZGRkcrOzj7v9mazWZmZmdqxY4d69+4tSdq7d69yc3OtxvTw8FB4eHiVY5aUlKiwsNBqAQAAcDQOEQCPHj2qsrIyeXt7W7V7e3srNze3yu0KCgrUsGFDubi4aODAgXrxxRd10003SZJlu4sZMyUlRR4eHpbF39//Ug4LAADALhwiAFZXo0aNlJOTo2+//VbPPvusEhISlJWVVe3xEhMTVVBQYFkOHDhQc8UCAADUknr2LuBCeHl5ydnZWXl5eVbteXl58vHxqXI7JycntW3bVpIUEhKibdu2KSUlRTfccINlu7y8PPn6+lqNGRISUul4rq6ucnV1vcSjAQAAsC+HmAF0cXFRaGioMjMzLW3l5eXKzMxURETEBY9TXl6ukpISSVJgYKB8fHysxiwsLNSGDRsuakwAAABH4xAzgJKUkJCguLg4hYWFqXv37kpLS1NxcbHi4+MlSbGxsWrZsqVSUv58CjQlJUVhYWFq06aNSkpKtGbNGr322muaP3++JMlkMumRRx7RtGnT1K5dOwUGBurpp5+Wn5+fhgwZYq/DBAAAsDmHCYAxMTE6cuSIkpKSlJubq5CQEGVkZFge4ti/f7+cnP43oVlcXKyHHnpIv/32m9zd3dWhQwe9/vrriomJsfR54oknVFxcrFGjRik/P189e/ZURkaG3Nzcav34AAAAaovDvAewLuI9QnUQ7wEEAJwHf78d5B5AAAAA1BwCIAAAgMEQAAEAAAyGAAgAAGAwBEAAAACDIQACAAAYDAEQAADAYAiAAAAABkMABAAAMBgCIAAAgMEQAAEAAAyGAAgAAGAwBEAAAACDIQACAAAYDAEQAADAYAiAAAAABkMABAAAMBgCIAAAgMEQAAEAAAyGAAgAAGAwBEAAAACDIQACAAAYDAEQAADAYAiAAAAABkMABAAAMBgCIAAAgMEQAAEAAAyGAAgAAGAwBEAAAACDIQACAAAYDAEQAADAYAiAAAAABkMABAAAMBiHCoDz5s1TQECA3NzcFB4ero0bN1bZd+HCherVq5eaNGmiJk2aKDIyskL/4cOHy2QyWS3R0dG2PgwAAAC7cpgAuHLlSiUkJCg5OVmbN29W586dFRUVpcOHD1faPysrS0OHDtW6deuUnZ0tf39/9e/fX7///rtVv+joaB06dMiyvPnmm7VxOAAAAHbjMAFw9uzZGjlypOLj49WxY0ctWLBA9evX15IlSyrt/8Ybb+ihhx5SSEiIOnTooEWLFqm8vFyZmZlW/VxdXeXj42NZmjRpUhuHAwAAYDcOEQBLS0u1adMmRUZGWtqcnJwUGRmp7OzsCxrj5MmTOn36tJo2bWrVnpWVpRYtWqh9+/YaPXq0jh07VuUYJSUlKiwstFoAAAAcjUMEwKNHj6qsrEze3t5W7d7e3srNzb2gMZ588kn5+flZhcjo6Gi9+uqryszM1PTp0/X5559rwIABKisrq3SMlJQUeXh4WBZ/f//qHxQAAICd1LPl4OvWrVPfvn1tuYsLkpqaqhUrVigrK0tubm6W9rvvvtvyc6dOnRQcHKw2bdooKytL/fr1qzBOYmKiEhISLJ8LCwsJgQAAwOHYdAYwOjpabdq00bRp03TgwIFqj+Pl5SVnZ2fl5eVZtefl5cnHx+ec286cOVOpqan6+OOPFRwcfM6+QUFB8vLy0q5duypd7+rqqsaNG1stAAAAjsamAfD333/X2LFjtWrVKgUFBSkqKkpvvfWWSktLL2ocFxcXhYaGWj3AcfaBjoiIiCq3mzFjhqZOnaqMjAyFhYWddz+//fabjh07Jl9f34uqDwAAwJHYNAB6eXnp0UcfVU5OjjZs2KCrrrpKDz30kPz8/DR+/Hj98MMPFzxWQkKCFi5cqGXLlmnbtm0aPXq0iouLFR8fL0mKjY1VYmKipf/06dP19NNPa8mSJQoICFBubq5yc3NVVFQkSSoqKtLjjz+ub775Rvv27VNmZqYGDx6stm3bKioqqmZPBAAAQB1Saw+BdO3aVYmJiRo7dqyKioq0ZMkShYaGqlevXvr555/Pu31MTIxmzpyppKQkhYSEKCcnRxkZGZYHQ/bv369Dhw5Z+s+fP1+lpaW644475Ovra1lmzpwpSXJ2dtaWLVt066236qqrrtKIESMUGhqqL774Qq6urrY5CQAAAHWAyWw2m225g9OnT+vdd9/VkiVL9MknnygsLEwjRozQ0KFDdeTIEU2aNEmbN2/W1q1bbVmGTRQWFsrDw0MFBQXcD1hXrEuxdwX20Tfx/H0AAJL4+y3Z+CngcePG6c0335TZbNa9996rGTNm6Nprr7Wsb9CggWbOnCk/Pz9blgEAAIC/sGkA3Lp1q1588UXddtttVV5W9fLy0rp162xZBgAAAP7CpvcAJicn684776wQ/s6cOaP169dLkurVq6c+ffrYsgwAAAD8hU0DYN++ffXHH39UaC8oKKgTL4gGAAAwIpsGQLPZLJPJVKH92LFjatCggS13DQAAgCrY5B7A2267TZJkMpk0fPhwq0vAZWVl2rJli3r06GGLXQMAAOA8bBIAPTw8JP05A9ioUSO5u7tb1rm4uOi6667TyJEjbbFrAAAAnIdNAmB6erokKSAgQBMmTOByLwAAQB1i09fAJCcn23J4AAAAVEONB8CuXbsqMzNTTZo0UZcuXSp9COSszZs31/TuAQAAcB41HgAHDx5seehjyJAhNT08AAAALpHNvwv4csZ3CdZBfBcwAOA8+Ptt4/cAAgAAoO6p8UvATZo0Oed9f39V2beEAAAAwLZqPACmpaXV9JAAAACoQTUeAOPi4mp6SAAAANSgGg+AhYWFlhsqCwsLz9nXqDdeAgAA2JNN7gE8dOiQWrRoIU9Pz0rvBzSbzTKZTCorK6vp3QMAAOA8ajwAfvbZZ2ratKkkad26dTU9PAAAAC5RjQfAPn36VPozAAAA6gabfhewJB0/flyLFy/Wtm3bJEkdO3ZUfHy8ZZYQAAAAtcumL4Jev369AgICNGfOHB0/flzHjx/XnDlzFBgYqPXr19ty1wAAAKiCTWcAx4wZo5iYGM2fP1/Ozs6SpLKyMj300EMaM2aMfvzxR1vuHgAAAJWw6Qzgrl279Nhjj1nCnyQ5OzsrISFBu3btsuWuAQAAUAWbBsCuXbta7v37q23btqlz58623DUAAACqUOOXgLds2WL5efz48Xr44Ye1a9cuXXfddZKkb775RvPmzVNqampN7xoAAAAXwGQ2m801OaCTk5NMJpPON+zl8CLowsJCeXh4qKCggG81qSvWpdi7Avvom2jvCgDAYfD32wYzgHv37q3pIQEAAFCDajwAtm7duqaHBAAAQA2y+YugJWnr1q3av3+/SktLrdpvvfXW2tg9AAAA/sKmAXDPnj36xz/+oR9//NHqvkCTySRJDn8PIAAAgCOy6WtgHn74YQUGBurw4cOqX7++fv75Z61fv15hYWHKysqy5a4BAABQBZvOAGZnZ+uzzz6Tl5eXnJyc5OTkpJ49eyolJUXjx4/X999/b8vdAwAAoBI2nQEsKytTo0aNJEleXl46ePCgpD8fFNmxY8dFjzdv3jwFBATIzc1N4eHh2rhxY5V9Fy5cqF69eqlJkyZq0qSJIiMjK/Q3m81KSkqSr6+v3N3dFRkZqZ07d150XQAAAI7EpgHw2muv1Q8//CBJCg8P14wZM/TVV1/pmWeeUVBQ0EWNtXLlSiUkJCg5OVmbN29W586dFRUVpcOHD1faPysrS0OHDtW6deuUnZ0tf39/9e/fX7///rulz4wZMzRnzhwtWLBAGzZsUIMGDRQVFaVTp05V/6ABAADquBp/EfRfrV27VsXFxbrtttu0a9cu3XLLLfrll1/UrFkzrVy5UjfeeOMFjxUeHq5u3bpp7ty5kqTy8nL5+/tr3Lhxeuqpp867fVlZmZo0aaK5c+cqNjZWZrNZfn5+euyxxzRhwgRJUkFBgby9vbV06VLdfffd5x2TF0nWQbwIGgBwHvz9tvE9gFFRUZaf27Ztq+3bt+uPP/5QkyZNLE8CX4jS0lJt2rRJiYn/+yPn5OSkyMhIZWdnX9AYJ0+e1OnTp9W0aVNJf76wOjc3V5GRkZY+Hh4eCg8PV3Z2dqUBsKSkRCUlJZbPhYWFF3wMAAAAdUWtvAdQkg4cOCBJ8vf3v+htjx49qrKyMnl7e1u1e3t7a/v27Rc0xpNPPik/Pz9L4MvNzbWM8fcxz677u5SUFE2ZMuViy68+ZrNQW/hdQ23i9w2wO5veA3jmzBk9/fTT8vDwUEBAgAICAuTh4aFJkybp9OnTtty1ldTUVK1YsUJvv/223Nzcqj1OYmKiCgoKLMvZUAsAAOBIbDoDOG7cOK1evVozZsxQRESEpD9fDTN58mQdO3ZM8+fPv6BxvLy85OzsrLy8PKv2vLw8+fj4nHPbmTNnKjU1VZ9++qmCg4Mt7We3y8vLk6+vr9WYISEhlY7l6uoqV1fXC6oZAACgrrLpDODy5cu1dOlSPfDAAwoODlZwcLAeeOABLV68WMuXL7/gcVxcXBQaGqrMzExLW3l5uTIzMy3BsjIzZszQ1KlTlZGRobCwMKt1gYGB8vHxsRqzsLBQGzZsOOeYAAAAjs6mM4Curq4KCAio0B4YGCgXF5eLGishIUFxcXEKCwtT9+7dlZaWpuLiYsXHx0uSYmNj1bJlS6Wk/HlvyfTp05WUlKTly5crICDAcl9fw4YN1bBhQ5lMJj3yyCOaNm2a2rVrp8DAQD399NPy8/PTkCFDLum4AQAA6jKbBsCxY8dq6tSpSk9Pt1w6LSkp0bPPPquxY8de1FgxMTE6cuSIkpKSlJubq5CQEGVkZFge4ti/f7+cnP43oTl//nyVlpbqjjvusBonOTlZkydPliQ98cQTKi4u1qhRo5Sfn6+ePXsqIyPjku4TBAAAqOtqPADedtttVp8//fRTXXnllercubMk6YcfflBpaan69et30WOPHTu2yuD49+8W3rdv33nHM5lMeuaZZ/TMM89cdC0AAACOqsYDoIeHh9Xn22+/3epzdV4DAwAAgJpT4wEwPT29pocEAABADaqVF0EfOXJEO3bskCS1b99ezZs3r43dAgAAoBI2fQ1McXGx7rvvPvn6+qp3797q3bu3/Pz8NGLECJ08edKWuwYAAEAVbBoAExIS9Pnnn+v9999Xfn6+8vPz9e677+rzzz/XY489ZstdAwAAoAo2vQT8n//8R6tWrdINN9xgabv55pvl7u6uu+6664K/CQS4UNl7jtm7BLuI6GvvCgAAjsSmM4AnT560vKfvr1q0aMElYAAAADuxaQCMiIhQcnKyTp06ZWn773//qylTpvB1awAAAHZi00vAaWlpio6OrvAiaDc3N61du9aWuwYAAEAVbBoAO3XqpJ07d+qNN97Q9u3bJUlDhw7VPffcI3d3d1vuGgAAAFWwWQA8ffq0OnTooA8++EAjR4601W4AAABwkWx2D+AVV1xhde8fAAAA6gabPgQyZswYTZ8+XWfOnLHlbgAAAHARbHoP4LfffqvMzEx9/PHH6tSpkxo0aGC1fvXq1bbcPQAAACph0wDo6emp22+/3Za7AAAAwEWySQAsLy/X888/r19++UWlpaW68cYbNXnyZJ78BQAAqANscg/gs88+q4kTJ6phw4Zq2bKl5syZozFjxthiVwAAALhINgmAr776ql566SWtXbtW77zzjt5//3298cYbKi8vt8XuAAAAcBFsEgD379+vm2++2fI5MjJSJpNJBw8etMXuAAAAcBFsEgDPnDkjNzc3q7YrrrhCp0+ftsXuAAAAcBFs8hCI2WzW8OHD5erqamk7deqUHnzwQatXwfAamHPL3nPM3iXYRURfe1dgPPyuoTbx+wbYn00CYFxcXIW2YcOG2WJXAAAAuEg2CYDp6em2GBYAAAA1wKZfBQcAAIC6hwAIAABgMARAAAAAgyEAAgAAGAwBEAAAwGAIgAAAAAZDAAQAADAYAiAAAIDBEAABAAAMhgAIAABgMA4TAOfNm6eAgAC5ubkpPDxcGzdurLLvzz//rNtvv10BAQEymUxKS0ur0Gfy5MkymUxWS4cOHWx4BAAAAHWDQwTAlStXKiEhQcnJydq8ebM6d+6sqKgoHT58uNL+J0+eVFBQkFJTU+Xj41PluNdcc40OHTpkWb788ktbHQIAAECdUc/eBVyI2bNna+TIkYqPj5ckLViwQB9++KGWLFmip556qkL/bt26qVu3bpJU6fqz6tWrd86ACADn8q9PfrF3CXbx6E1X2bsEw+F3DTWtzs8AlpaWatOmTYqMjLS0OTk5KTIyUtnZ2Zc09s6dO+Xn56egoCDdc8892r9//zn7l5SUqLCw0GoBAABwNHU+AB49elRlZWXy9va2avf29lZubm61xw0PD9fSpUuVkZGh+fPna+/everVq5dOnDhR5TYpKSny8PCwLP7+/tXePwAAgL3U+QBoKwMGDNCdd96p4OBgRUVFac2aNcrPz9dbb71V5TaJiYkqKCiwLAcOHKjFigEAAGpGnb8H0MvLS87OzsrLy7Nqz8vLq9H79zw9PXXVVVdp165dVfZxdXWVq6trje0TAADAHur8DKCLi4tCQ0OVmZlpaSsvL1dmZqYiIiJqbD9FRUXavXu3fH19a2xMAACAuqjOzwBKUkJCguLi4hQWFqbu3bsrLS1NxcXFlqeCY2Nj1bJlS6WkpEj688GRrVu3Wn7+/ffflZOTo4YNG6pt27aSpAkTJmjQoEFq3bq1Dh48qOTkZDk7O2vo0KH2OUgAAIBa4hABMCYmRkeOHFFSUpJyc3MVEhKijIwMy4Mh+/fvl5PT/yYzDx48qC5dulg+z5w5UzNnzlSfPn2UlZUlSfrtt980dOhQHTt2TM2bN1fPnj31zTffqHnz5rV6bAAAALXNIQKgJI0dO1Zjx46tdN3ZUHdWQECAzGbzOcdbsWJFTZUGAADgUOr8PYAAAACoWQRAAAAAgyEAAgAAGAwBEAAAwGAIgAAAAAZDAAQAADAYAiAAAIDBEAABAAAMhgAIAABgMARAAAAAgyEAAgAAGAwBEAAAwGAIgAAAAAZDAAQAADAYAiAAAIDBEAABAAAMhgAIAABgMARAAAAAgyEAAgAAGAwBEAAAwGAIgAAAAAZDAAQAADAYAiAAAIDBEAABAAAMhgAIAABgMARAAAAAgyEAAgAAGAwBEAAAwGAIgAAAAAZDAAQAADAYAiAAAIDBEAABAAAMhgAIAABgMA4TAOfNm6eAgAC5ubkpPDxcGzdurLLvzz//rNtvv10BAQEymUxKS0u75DEBAAAuFw4RAFeuXKmEhAQlJydr8+bN6ty5s6KionT48OFK+588eVJBQUFKTU2Vj49PjYwJAABwuXCIADh79myNHDlS8fHx6tixoxYsWKD69etryZIllfbv1q2bnn/+ed19991ydXWtkTEBAAAuF3U+AJaWlmrTpk2KjIy0tDk5OSkyMlLZ2dm1OmZJSYkKCwutFgAAAEdT5wPg0aNHVVZWJm9vb6t2b29v5ebm1uqYKSkp8vDwsCz+/v7V2j8AAIA91fkAWJckJiaqoKDAshw4cMDeJQEAAFy0evYu4Hy8vLzk7OysvLw8q/a8vLwqH/Cw1Ziurq5V3lMIAADgKOr8DKCLi4tCQ0OVmZlpaSsvL1dmZqYiIiLqzJgAAACOos7PAEpSQkKC4uLiFBYWpu7duystLU3FxcWKj4+XJMXGxqply5ZKSUmR9OdDHlu3brX8/PvvvysnJ0cNGzZU27ZtL2hMAACAy5VDBMCYmBgdOXJESUlJys3NVUhIiDIyMiwPcezfv19OTv+bzDx48KC6dOli+Txz5kzNnDlTffr0UVZW1gWNCQAAcLlyiAAoSWPHjtXYsWMrXXc21J0VEBAgs9l8SWMCAABcrur8PYAAAACoWQRAAAAAgyEAAgAAGAwBEAAAwGAIgAAAAAZDAAQAADAYAiAAAIDBEAABAAAMhgAIAABgMARAAAAAgyEAAgAAGAwBEAAAwGAIgAAAAAZDAAQAADAYAiAAAIDBEAABAAAMhgAIAABgMARAAAAAgyEAAgAAGAwBEAAAwGAIgAAAAAZDAAQAADAYAiAAAIDBEAABAAAMhgAIAABgMARAAAAAgyEAAgAAGAwBEAAAwGAIgAAAAAZDAAQAADAYAiAAAIDBEAABAAAMhgAIAABgMA4VAOfNm6eAgAC5ubkpPDxcGzduPGf/f//73+rQoYPc3NzUqVMnrVmzxmr98OHDZTKZrJbo6GhbHgIAAIDdOUwAXLlypRISEpScnKzNmzerc+fOioqK0uHDhyvt//XXX2vo0KEaMWKEvv/+ew0ZMkRDhgzRTz/9ZNUvOjpahw4dsixvvvlmbRwOAACA3ThMAJw9e7ZGjhyp+Ph4dezYUQsWLFD9+vW1ZMmSSvu/8MILio6O1uOPP66rr75aU6dOVdeuXTV37lyrfq6urvLx8bEsTZo0qY3DAQAAsBuHCIClpaXatGmTIiMjLW1OTk6KjIxUdnZ2pdtkZ2db9ZekqKioCv2zsrLUokULtW/fXqNHj9axY8eqrKOkpESFhYVWCwAAgKNxiAB49OhRlZWVydvb26rd29tbubm5lW6Tm5t73v7R0dF69dVXlZmZqenTp+vzzz/XgAEDVFZWVumYKSkp8vDwsCz+/v6XeGQAAAC1r569C7Cnu+++2/Jzp06dFBwcrDZt2igrK0v9+vWr0D8xMVEJCQmWz4WFhYRAAADgcBxiBtDLy0vOzs7Ky8uzas/Ly5OPj0+l2/j4+FxUf0kKCgqSl5eXdu3aVel6V1dXNW7c2GoBAABwNA4RAF1cXBQaGqrMzExLW3l5uTIzMxUREVHpNhEREVb9JemTTz6psr8k/fbbbzp27Jh8fX1rpnAAAIA6yCECoCQlJCRo4cKFWrZsmbZt26bRo0eruLhY8fHxkqTY2FglJiZa+j/88MPKyMjQrFmztH37dk2ePFnfffedxo4dK0kqKirS448/rm+++Ub79u1TZmamBg8erLZt2yoqKsouxwgAAFAbHOYewJiYGB05ckRJSUnKzc1VSEiIMjIyLA967N+/X05O/8uzPXr00PLlyzVp0iRNnDhR7dq10zvvvKNrr71WkuTs7KwtW7Zo2bJlys/Pl5+fn/r376+pU6fK1dXVLscIAABQGxwmAErS2LFjLTN4f5eVlVWh7c4779Sdd95ZaX93d3etXbu2JssDAABwCA5zCRgAAAA1gwAIAABgMARAAAAAgyEAAgAAGAwBEAAAwGAIgAAAAAZDAAQAADAYAiAAAIDBEAABAAAMhgAIAABgMARAAAAAgyEAAgAAGAwBEAAAwGAIgAAAAAZDAAQAADAYAiAAAIDBEAABAAAMhgAIAABgMARAAAAAgyEAAgAAGAwBEAAAwGAIgAAAAAZDAAQAADAYAiAAAIDBEAABAAAMhgAIAABgMARAAAAAgyEAAgAAGAwBEAAAwGAIgAAAAAZDAAQAADAYAiAAAIDBEAABAAAMxqEC4Lx58xQQECA3NzeFh4dr48aN5+z/73//Wx06dJCbm5s6deqkNWvWWK03m81KSkqSr6+v3N3dFRkZqZ07d9ryEAAAAOzOYQLgypUrlZCQoOTkZG3evFmdO3dWVFSUDh8+XGn/r7/+WkOHDtWIESP0/fffa8iQIRoyZIh++uknS58ZM2Zozpw5WrBggTZs2KAGDRooKipKp06dqq3DAgAAqHUOEwBnz56tkSNHKj4+Xh07dtSCBQtUv359LVmypNL+L7zwgqKjo/X444/r6quv1tSpU9W1a1fNnTtX0p+zf2lpaZo0aZIGDx6s4OBgvfrqqzp48KDeeeedWjwyAACA2lXP3gVciNLSUm3atEmJiYmWNicnJ0VGRio7O7vSbbKzs5WQkGDVFhUVZQl3e/fuVW5uriIjIy3rPTw8FB4eruzsbN19990VxiwpKVFJSYnlc0FBgSSpsLCw2sd2LsX/LTl/p8vQpZxPzln1cN6q51RxUQ1V4lj4faueSzlv/K7ZZlyz2WyT8R2BQwTAo0ePqqysTN7e3lbt3t7e2r59e6Xb5ObmVto/NzfXsv5sW1V9/i4lJUVTpkyp0O7v739hB4ILM26uvStwPJyz6uG8VctEexfgqPh9u2i2/l07ceKEPDw8bLyXuskhAmBdkZiYaDWrWF5erj/++EPNmjWTyWSyY2U1q7CwUP7+/jpw4IAaN25s73IcAuesejhv1cN5qx7O28W7XM+Z2WzWiRMn5OfnZ+9S7MYhAqCXl5ecnZ2Vl5dn1Z6XlycfH59Kt/Hx8Tln/7P/m5eXJ19fX6s+ISEhlY7p6uoqV1dXqzZPT8+LORSH0rhx48vq//C1gXNWPZy36uG8VQ/n7eJdjufMqDN/ZznEQyAuLi4KDQ1VZmampa28vFyZmZmKiIiodJuIiAir/pL0ySefWPoHBgbKx8fHqk9hYaE2bNhQ5ZgAAACXA4eYAZSkhIQExcXFKSwsTN27d1daWpqKi4sVHx8vSYqNjVXLli2VkpIiSXr44YfVp08fzZo1SwMHDtSKFSv03Xff6ZVXXpEkmUwmPfLII5o2bZratWunwMBAPf300/Lz89OQIUPsdZgAAAA25zABMCYmRkeOHFFSUpJyc3MVEhKijIwMy0Mc+/fvl5PT/yY0e/TooeXLl2vSpEmaOHGi2rVrp3feeUfXXnutpc8TTzyh4uJijRo1Svn5+erZs6cyMjLk5uZW68dXl7i6uio5ObnC5W5UjXNWPZy36uG8VQ/n7eJxzi5fJrORn4EGAAAwIIe4BxAAAAA1hwAIAABgMARAAAAAgyEAAgAAGAwBEBbr16/XoEGD5OfnJ5PJZPneZFQtJSVF3bp1U6NGjdSiRQsNGTJEO3bssHdZdd78+fMVHBxseblsRESEPvroI3uX5VBSU1Mtr7NC1SZPniyTyWS1dOjQwd5lOYTff/9dw4YNU7NmzeTu7q5OnTrpu+++s3dZqCEEQFgUFxerc+fOmjdvnr1LcRiff/65xowZo2+++UaffPKJTp8+rf79+6u4uNjepdVpV155pVJTU7Vp0yZ99913uvHGGzV48GD9/PPP9i7NIXz77bd6+eWXFRwcbO9SHMI111yjQ4cOWZYvv/zS3iXVecePH9f111+vK664Qh999JG2bt2qWbNmqUmTJvYuDTXEYd4DCNsbMGCABgwYYO8yHEpGRobV56VLl6pFixbatGmTevfubaeq6r5BgwZZfX722Wc1f/58ffPNN7rmmmvsVJVjKCoq0j333KOFCxdq2rRp9i7HIdSrV6/Krw1F5aZPny5/f3+lp6db2gIDA+1YEWoaM4BADSooKJAkNW3a1M6VOI6ysjKtWLFCxcXFfA3jBRgzZowGDhyoyMhIe5fiMHbu3Ck/Pz8FBQXpnnvu0f79++1dUp333nvvKSwsTHfeeadatGihLl26aOHChfYuCzWIGUCghpSXl+uRRx7R9ddfb/WNM6jcjz/+qIiICJ06dUoNGzbU22+/rY4dO9q7rDptxYoV2rx5s7799lt7l+IwwsPDtXTpUrVv316HDh3SlClT1KtXL/30009q1KiRvcurs/bs2aP58+crISFBEydO1Lfffqvx48fLxcVFcXFx9i4PNYAACNSQMWPG6KeffuL+ogvUvn175eTkqKCgQKtWrVJcXJw+//xzQmAVDhw4oIcffliffPKJ4b+u8mL89baW4OBghYeHq3Xr1nrrrbc0YsQIO1ZWt5WXlyssLEzPPfecJKlLly766aeftGDBAgLgZYJLwEANGDt2rD744AOtW7dOV155pb3LcQguLi5q27atQkNDlZKSos6dO+uFF16wd1l11qZNm3T48GF17dpV9erVU7169fT5559rzpw5qlevnsrKyuxdokPw9PTUVVddpV27dtm7lDrN19e3wj/Grr76ai6fX0aYAQQugdls1rhx4/T2228rKyuLm6QvQXl5uUpKSuxdRp3Vr18//fjjj1Zt8fHx6tChg5588kk5OzvbqTLHUlRUpN27d+vee++1dyl12vXXX1/hlVa//PKLWrdubaeKUNMIgLAoKiqy+lfx3r17lZOTo6ZNm6pVq1Z2rKzuGjNmjJYvX653331XjRo1Um5uriTJw8ND7u7udq6u7kpMTNSAAQPUqlUrnThxQsuXL1dWVpbWrl1r79LqrEaNGlW4t7RBgwZq1qwZ95yew4QJEzRo0CC1bt1aBw8eVHJyspydnTV06FB7l1anPfroo+rRo4eee+453XXXXdq4caNeeeUVvfLKK/YuDTWEAAiL7777Tn379rV8TkhIkCTFxcVp6dKldqqqbps/f74k6YYbbrBqT09P1/Dhw2u/IAdx+PBhxcbG6tChQ/Lw8FBwcLDWrl2rm266yd6l4TLz22+/aejQoTp27JiaN2+unj176ptvvlHz5s3tXVqd1q1bN7399ttKTEzUM888o8DAQKWlpemee+6xd2moISaz2Wy2dxEAAACoPTwEAgAAYDAEQAAAAIMhAAIAABgMARAAAMBgCIAAAAAGQwAEAAAwGAIgAACAwRAAATgUk8mkd955x95l2FRWVpZMJpPy8/PtXQqAyxQBEIDdDR8+XCaTSSaTSVdccYW8vb110003acmSJSovL7fqe+jQIQ0YMMBmtUyePNlSi7Ozs/z9/TVq1Cj98ccfNtvn+SxdulSenp522z+Ayw8BEECdEB0drUOHDmnfvn366KOP1LdvXz388MO65ZZbdObMGUs/Hx8fubq62rSWa665RocOHdL+/fuVnp6ujIwMjR492qb7BIDaRAAEUCe4urrKx8dHLVu2VNeuXTVx4kS9++67+uijj6y+i/rvl4DPftdr06ZN1aBBA4WFhWnDhg2W9e+++666du0qNzc3BQUFacqUKVaBsjL16tWz1BIZGak777xTn3zyiVWfRYsW6eqrr5abm5s6dOigl156ybKutLRUY8eOla+vr9zc3NS6dWulpKRIkvbt2yeTyaScnBxL//z8fJlMJmVlZVWoJSsrS/Hx8SooKLDMTE6ePPn8JxQAzqGevQsAgKrceOON6ty5s1avXq3777+/wvqioiL16dNHLVu21HvvvScfHx9t3rzZctn4iy++UGxsrObMmaNevXpp9+7dGjVqlCQpOTn5gmrYt2+f1q5dKxcXF0vbG2+8oaSkJM2dO1ddunTR999/r5EjR6pBgwaKi4vTnDlz9N577+mtt95Sq1atdODAAR04cKBa56BHjx5KS0tTUlKSduzYIUlq2LBhtcYCgLMIgADqtA4dOmjLli2Vrlu+fLmOHDmib7/9Vk2bNpUktW3b1rJ+ypQpeuqppxQXFydJCgoK0tSpU/XEE0+cMwD++OOPatiwocrKynTq1ClJ0uzZsy3rk5OTNWvWLN12222SpMDAQG3dulUvv/yy4uLitH//frVr1049e/aUyWRS69atq338Li4u8vDwkMlkko+PT7XHAYC/IgACqNPMZrNMJlOl63JyctSlSxdL+Pu7H374QV999ZWeffZZS9vZUHfy5EnVr1+/0u3at2+v9957T6dOndLrr7+unJwcjRs3TpJUXFys3bt3a8SIERo5cqRlmzNnzsjDw0PSnw+13HTTTWrfvr2io6N1yy23qH///tU6fgCwBQIggDpt27ZtCgwMrHSdu7v7ObctKirSlClTLDN1f+Xm5lbldi4uLpaZxNTUVA0cOFBTpkzR1KlTVVRUJElauHChwsPDrbZzdnaWJHXt2lV79+7VRx99pE8//VR33XWXIiMjtWrVKjk5/Xnrtdlstmx3+vTpcx4HANQ0AiCAOuuzzz7Tjz/+qEcffbTS9cHBwVq0aJH++OOPSmcBu3btqh07dlhdFq6OSZMm6cYbb9To0aPl5+cnPz8/7dmzR/fcc0+V2zRu3FgxMTGKiYnRHXfcoejoaP3xxx9q3ry5pD9fZ9OlSxdJsnogpDIuLi4qKyu7pGMAgL8iAAKoE0pKSpSbm6uysjLl5eUpIyNDKSkpuuWWWxQbG1vpNkOHDtVzzz2nIUOGKCUlRb6+vvr+++/l5+eniIgIJSUl6ZZbblGrVq10xx13yMnJST/88IN++uknTZs27YJri4iIUHBwsJ577jnNnTtXU6ZM0fjx4+Xh4aHo6GiVlJTou+++0/Hjx5WQkKDZs2fL19dXXbp0kZOTk/7973/Lx8dHnp6ecnJy0nXXXafU1FQFBgbq8OHDmjRp0jn3HxAQoKKiImVmZqpz586qX79+lZevAeBC8BoYAHVCRkaGfH19FRAQoOjoaK1bt05z5szRu+++a7m0+ncuLi76+OOP1aJFC918883q1KmTUlNTLf2joqL0wQcf6OOPP1a3bt103XXX6V//+le1Hsp49NFHtWjRIh04cED333+/Fi1apPT0dHXq1El9+vTR0qVLLZeqGzVqpBkzZigsLEzdunXTvn37tGbNGsvl3yVLlujMmTMKDQ3VI488ct4w2qNHDz344IOKiYlR8+bNNWPGjIuuHwD+ymT+640oAAAAuOwxAwgAAGAwBEAAAACDIQACAAAYDAEQAADAYAiAAAAABkMABAAAMBgCIAAAgMEQAAEAAAyGAAgAAGAwBEAAAACDIQACAAAYDAEQAADAYP4f6vXt8kYe1doAAAAASUVORK5CYII=' width=640.0/>\n",
       "            </div>\n",
       "        "
      ],
      "text/plain": [
       "Canvas(toolbar=Toolbar(toolitems=[('Home', 'Reset original view', 'home', 'home'), ('Back', 'Back to previous …"
      ]
     },
     "metadata": {},
     "output_type": "display_data"
    }
   ],
   "source": [
    "# TODO: visualize\n",
    "%matplotlib widget\n",
    "from utils import create_animation\n",
    "anim = create_animation(maps, mls, stepsize=5, fps=5)"
   ]
  },
  {
   "cell_type": "code",
   "execution_count": 8,
   "id": "8d4bef32",
   "metadata": {},
   "outputs": [],
   "source": [
    "# TODO: describe observed effect + is die fair?"
   ]
  },
  {
   "cell_type": "markdown",
   "id": "bb83241d",
   "metadata": {},
   "source": [
    "The ML estimate jumps around a lot at the start (m < 100). The MAP estimate is much smoother, and converges rather quickly to the resulting distribution. In the end, the ML and MAP estimates are still slightly different, because the MAP estimate is still biased towards uniform distribution. The die is definetely not fair."
   ]
  }
 ],
 "metadata": {
  "kernelspec": {
   "display_name": "Python 3",
   "language": "python",
   "name": "python3"
  },
  "language_info": {
   "codemirror_mode": {
    "name": "ipython",
    "version": 3
   },
   "file_extension": ".py",
   "mimetype": "text/x-python",
   "name": "python",
   "nbconvert_exporter": "python",
   "pygments_lexer": "ipython3",
   "version": "3.11.0"
  },
  "vscode": {
   "interpreter": {
    "hash": "e7370f93d1d0cde622a1f8e1c04877d8463912d04d973331ad4851f04de6915a"
   }
  }
 },
 "nbformat": 4,
 "nbformat_minor": 5
}
